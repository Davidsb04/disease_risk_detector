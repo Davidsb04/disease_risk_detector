{
  "nbformat": 4,
  "nbformat_minor": 0,
  "metadata": {
    "colab": {
      "provenance": [],
      "collapsed_sections": [
        "hpif5Uocd9rI",
        "VGPqvr5y0Dx4",
        "tVeS8XCNeLnJ"
      ],
      "authorship_tag": "ABX9TyNVILcekUBkIzjNm8HHvFwI",
      "include_colab_link": true
    },
    "kernelspec": {
      "name": "python3",
      "display_name": "Python 3"
    },
    "language_info": {
      "name": "python"
    }
  },
  "cells": [
    {
      "cell_type": "markdown",
      "metadata": {
        "id": "view-in-github",
        "colab_type": "text"
      },
      "source": [
        "<a href=\"https://colab.research.google.com/github/Davidsb04/disease_risk_detector/blob/main/Disease_risk_from_daily_habits.ipynb\" target=\"_parent\"><img src=\"https://colab.research.google.com/assets/colab-badge.svg\" alt=\"Open In Colab\"/></a>"
      ]
    },
    {
      "cell_type": "markdown",
      "source": [
        "# Disease risk from daily habits\n",
        "\n",
        "#### Base de dados utilizada: https://www.kaggle.com/datasets/mahdimashayekhi/disease-risk-from-daily-habits\n",
        "\n",
        "###🔢 Numerical Features\n",
        "|Features|Feature\tDescription|\n",
        "|------------------|-------------------|\n",
        "|age|Age of the individual|\n",
        "|bmi|Body Mass Index|\n",
        "|blood_pressure|Systolic blood pressure (mm Hg)|\n",
        "|cholesterol|Cholesterol level (mg/dL)|\n",
        "|heart_rate|Resting heart rate (bpm)|\n",
        "|glucose|Blood glucose level|\n",
        "|insulin|Blood insulin level|\n",
        "|calorie_intake|Daily average calorie consumption|\n",
        "|sugar_intake|Daily sugar intake (grams)|\n",
        "|screen_time|Daily screen time (hours)|\n",
        "|stress_level|Self-reported stress level (0-10 scale)|\n",
        "|mental_health_score|Self-reported mental well-being score (0-10 scale)|\n",
        "|training_hours|Weekly training/exercise hours|\n",
        "\n",
        "\n",
        "###🧩 Categorical Features\n",
        "|Features|Feature\tDescription|\n",
        "|------------------|-------------------|\n",
        "|gender|Male / Female|\n",
        "|marital_status|Single, Married, Divorced, Widowed|\n",
        "|diet_type|Vegan, Vegetarian, Omnivore, Keto, Paleo|\n",
        "|occupation|Job type or employment status|\n",
        "|sleep_quality|Subjective sleep quality|\n",
        "|mental_health_support|Access to mental health resources|\n",
        "|exercise_type|None, Cardio, Strength, Mixed|\n",
        "|device_usage|Device usage level|\n",
        "|healthcare_access|Ease of access to healthcare|\n",
        "|insurance|Has health insurance or not|\n",
        "|family_history|Family history of disease|\n",
        "|sunlight_exposure|Daily sunlight exposure (Low/Med/High)|\n",
        "|pet_owner|Owns pets (Yes/No)|\n",
        "|caffeine_intake|Caffeine consumption level|\n",
        "|meals_per_day|Number of meals consumed per day|"
      ],
      "metadata": {
        "id": "CS_DgquQzCW_"
      }
    },
    {
      "cell_type": "markdown",
      "source": [
        "## Importando e Tratando os Dados"
      ],
      "metadata": {
        "id": "hpif5Uocd9rI"
      }
    },
    {
      "cell_type": "code",
      "execution_count": null,
      "metadata": {
        "id": "Xehu2jn9OQAa"
      },
      "outputs": [],
      "source": [
        "import pandas as pd"
      ]
    },
    {
      "cell_type": "code",
      "source": [
        "base = pd.read_csv('health_lifestyle_classification.csv')"
      ],
      "metadata": {
        "id": "s2eTd6STO5IF"
      },
      "execution_count": null,
      "outputs": []
    },
    {
      "cell_type": "code",
      "source": [
        "base.head()"
      ],
      "metadata": {
        "colab": {
          "base_uri": "https://localhost:8080/"
        },
        "id": "nik6eIvgWnKa",
        "outputId": "658d27ac-63d7-4352-b444-6fb143781fbc"
      },
      "execution_count": null,
      "outputs": [
        {
          "output_type": "execute_result",
          "data": {
            "text/plain": [
              "   survey_code  age  gender      height     weight        bmi  bmi_estimated  \\\n",
              "0            1   56    Male  173.416872  56.886640  18.915925      18.915925   \n",
              "1            2   69  Female  163.207380  97.799859  36.716278      36.716278   \n",
              "2            3   46    Male  177.281966  80.687562  25.673050      25.673050   \n",
              "3            4   32  Female  172.101255  63.142868  21.318480      21.318480   \n",
              "4            5   60  Female  163.608816  40.000000  14.943302      14.943302   \n",
              "\n",
              "   bmi_scaled  bmi_corrected  waist_size  ...  sunlight_exposure  \\\n",
              "0   56.747776      18.989117   72.165130  ...               High   \n",
              "1  110.148833      36.511417   85.598889  ...               High   \n",
              "2   77.019151      25.587429   90.295030  ...               High   \n",
              "3   63.955440      21.177109  100.504211  ...               High   \n",
              "4   44.829907      14.844299   69.021150  ...               High   \n",
              "\n",
              "   meals_per_day  caffeine_intake  family_history  pet_owner  \\\n",
              "0            5.0         Moderate              No        Yes   \n",
              "1            5.0             High             Yes         No   \n",
              "2            4.0         Moderate              No         No   \n",
              "3            1.0              NaN              No        Yes   \n",
              "4            1.0             High             Yes        Yes   \n",
              "\n",
              "   electrolyte_level gene_marker_flag  environmental_risk_score  \\\n",
              "0                0.0              1.0                       5.5   \n",
              "1                0.0              1.0                       5.5   \n",
              "2                0.0              1.0                       5.5   \n",
              "3                0.0              1.0                       5.5   \n",
              "4                0.0              1.0                       5.5   \n",
              "\n",
              "   daily_supplement_dosage   target  \n",
              "0                -2.275502  healthy  \n",
              "1                 6.239340  healthy  \n",
              "2                 5.423737  healthy  \n",
              "3                 8.388611  healthy  \n",
              "4                 0.332622  healthy  \n",
              "\n",
              "[5 rows x 48 columns]"
            ],
            "text/html": [
              "\n",
              "  <div id=\"df-4a13b810-4d23-422e-8cb9-a1f3095f5c68\" class=\"colab-df-container\">\n",
              "    <div>\n",
              "<style scoped>\n",
              "    .dataframe tbody tr th:only-of-type {\n",
              "        vertical-align: middle;\n",
              "    }\n",
              "\n",
              "    .dataframe tbody tr th {\n",
              "        vertical-align: top;\n",
              "    }\n",
              "\n",
              "    .dataframe thead th {\n",
              "        text-align: right;\n",
              "    }\n",
              "</style>\n",
              "<table border=\"1\" class=\"dataframe\">\n",
              "  <thead>\n",
              "    <tr style=\"text-align: right;\">\n",
              "      <th></th>\n",
              "      <th>survey_code</th>\n",
              "      <th>age</th>\n",
              "      <th>gender</th>\n",
              "      <th>height</th>\n",
              "      <th>weight</th>\n",
              "      <th>bmi</th>\n",
              "      <th>bmi_estimated</th>\n",
              "      <th>bmi_scaled</th>\n",
              "      <th>bmi_corrected</th>\n",
              "      <th>waist_size</th>\n",
              "      <th>...</th>\n",
              "      <th>sunlight_exposure</th>\n",
              "      <th>meals_per_day</th>\n",
              "      <th>caffeine_intake</th>\n",
              "      <th>family_history</th>\n",
              "      <th>pet_owner</th>\n",
              "      <th>electrolyte_level</th>\n",
              "      <th>gene_marker_flag</th>\n",
              "      <th>environmental_risk_score</th>\n",
              "      <th>daily_supplement_dosage</th>\n",
              "      <th>target</th>\n",
              "    </tr>\n",
              "  </thead>\n",
              "  <tbody>\n",
              "    <tr>\n",
              "      <th>0</th>\n",
              "      <td>1</td>\n",
              "      <td>56</td>\n",
              "      <td>Male</td>\n",
              "      <td>173.416872</td>\n",
              "      <td>56.886640</td>\n",
              "      <td>18.915925</td>\n",
              "      <td>18.915925</td>\n",
              "      <td>56.747776</td>\n",
              "      <td>18.989117</td>\n",
              "      <td>72.165130</td>\n",
              "      <td>...</td>\n",
              "      <td>High</td>\n",
              "      <td>5.0</td>\n",
              "      <td>Moderate</td>\n",
              "      <td>No</td>\n",
              "      <td>Yes</td>\n",
              "      <td>0.0</td>\n",
              "      <td>1.0</td>\n",
              "      <td>5.5</td>\n",
              "      <td>-2.275502</td>\n",
              "      <td>healthy</td>\n",
              "    </tr>\n",
              "    <tr>\n",
              "      <th>1</th>\n",
              "      <td>2</td>\n",
              "      <td>69</td>\n",
              "      <td>Female</td>\n",
              "      <td>163.207380</td>\n",
              "      <td>97.799859</td>\n",
              "      <td>36.716278</td>\n",
              "      <td>36.716278</td>\n",
              "      <td>110.148833</td>\n",
              "      <td>36.511417</td>\n",
              "      <td>85.598889</td>\n",
              "      <td>...</td>\n",
              "      <td>High</td>\n",
              "      <td>5.0</td>\n",
              "      <td>High</td>\n",
              "      <td>Yes</td>\n",
              "      <td>No</td>\n",
              "      <td>0.0</td>\n",
              "      <td>1.0</td>\n",
              "      <td>5.5</td>\n",
              "      <td>6.239340</td>\n",
              "      <td>healthy</td>\n",
              "    </tr>\n",
              "    <tr>\n",
              "      <th>2</th>\n",
              "      <td>3</td>\n",
              "      <td>46</td>\n",
              "      <td>Male</td>\n",
              "      <td>177.281966</td>\n",
              "      <td>80.687562</td>\n",
              "      <td>25.673050</td>\n",
              "      <td>25.673050</td>\n",
              "      <td>77.019151</td>\n",
              "      <td>25.587429</td>\n",
              "      <td>90.295030</td>\n",
              "      <td>...</td>\n",
              "      <td>High</td>\n",
              "      <td>4.0</td>\n",
              "      <td>Moderate</td>\n",
              "      <td>No</td>\n",
              "      <td>No</td>\n",
              "      <td>0.0</td>\n",
              "      <td>1.0</td>\n",
              "      <td>5.5</td>\n",
              "      <td>5.423737</td>\n",
              "      <td>healthy</td>\n",
              "    </tr>\n",
              "    <tr>\n",
              "      <th>3</th>\n",
              "      <td>4</td>\n",
              "      <td>32</td>\n",
              "      <td>Female</td>\n",
              "      <td>172.101255</td>\n",
              "      <td>63.142868</td>\n",
              "      <td>21.318480</td>\n",
              "      <td>21.318480</td>\n",
              "      <td>63.955440</td>\n",
              "      <td>21.177109</td>\n",
              "      <td>100.504211</td>\n",
              "      <td>...</td>\n",
              "      <td>High</td>\n",
              "      <td>1.0</td>\n",
              "      <td>NaN</td>\n",
              "      <td>No</td>\n",
              "      <td>Yes</td>\n",
              "      <td>0.0</td>\n",
              "      <td>1.0</td>\n",
              "      <td>5.5</td>\n",
              "      <td>8.388611</td>\n",
              "      <td>healthy</td>\n",
              "    </tr>\n",
              "    <tr>\n",
              "      <th>4</th>\n",
              "      <td>5</td>\n",
              "      <td>60</td>\n",
              "      <td>Female</td>\n",
              "      <td>163.608816</td>\n",
              "      <td>40.000000</td>\n",
              "      <td>14.943302</td>\n",
              "      <td>14.943302</td>\n",
              "      <td>44.829907</td>\n",
              "      <td>14.844299</td>\n",
              "      <td>69.021150</td>\n",
              "      <td>...</td>\n",
              "      <td>High</td>\n",
              "      <td>1.0</td>\n",
              "      <td>High</td>\n",
              "      <td>Yes</td>\n",
              "      <td>Yes</td>\n",
              "      <td>0.0</td>\n",
              "      <td>1.0</td>\n",
              "      <td>5.5</td>\n",
              "      <td>0.332622</td>\n",
              "      <td>healthy</td>\n",
              "    </tr>\n",
              "  </tbody>\n",
              "</table>\n",
              "<p>5 rows × 48 columns</p>\n",
              "</div>\n",
              "    <div class=\"colab-df-buttons\">\n",
              "\n",
              "  <div class=\"colab-df-container\">\n",
              "    <button class=\"colab-df-convert\" onclick=\"convertToInteractive('df-4a13b810-4d23-422e-8cb9-a1f3095f5c68')\"\n",
              "            title=\"Convert this dataframe to an interactive table.\"\n",
              "            style=\"display:none;\">\n",
              "\n",
              "  <svg xmlns=\"http://www.w3.org/2000/svg\" height=\"24px\" viewBox=\"0 -960 960 960\">\n",
              "    <path d=\"M120-120v-720h720v720H120Zm60-500h600v-160H180v160Zm220 220h160v-160H400v160Zm0 220h160v-160H400v160ZM180-400h160v-160H180v160Zm440 0h160v-160H620v160ZM180-180h160v-160H180v160Zm440 0h160v-160H620v160Z\"/>\n",
              "  </svg>\n",
              "    </button>\n",
              "\n",
              "  <style>\n",
              "    .colab-df-container {\n",
              "      display:flex;\n",
              "      gap: 12px;\n",
              "    }\n",
              "\n",
              "    .colab-df-convert {\n",
              "      background-color: #E8F0FE;\n",
              "      border: none;\n",
              "      border-radius: 50%;\n",
              "      cursor: pointer;\n",
              "      display: none;\n",
              "      fill: #1967D2;\n",
              "      height: 32px;\n",
              "      padding: 0 0 0 0;\n",
              "      width: 32px;\n",
              "    }\n",
              "\n",
              "    .colab-df-convert:hover {\n",
              "      background-color: #E2EBFA;\n",
              "      box-shadow: 0px 1px 2px rgba(60, 64, 67, 0.3), 0px 1px 3px 1px rgba(60, 64, 67, 0.15);\n",
              "      fill: #174EA6;\n",
              "    }\n",
              "\n",
              "    .colab-df-buttons div {\n",
              "      margin-bottom: 4px;\n",
              "    }\n",
              "\n",
              "    [theme=dark] .colab-df-convert {\n",
              "      background-color: #3B4455;\n",
              "      fill: #D2E3FC;\n",
              "    }\n",
              "\n",
              "    [theme=dark] .colab-df-convert:hover {\n",
              "      background-color: #434B5C;\n",
              "      box-shadow: 0px 1px 3px 1px rgba(0, 0, 0, 0.15);\n",
              "      filter: drop-shadow(0px 1px 2px rgba(0, 0, 0, 0.3));\n",
              "      fill: #FFFFFF;\n",
              "    }\n",
              "  </style>\n",
              "\n",
              "    <script>\n",
              "      const buttonEl =\n",
              "        document.querySelector('#df-4a13b810-4d23-422e-8cb9-a1f3095f5c68 button.colab-df-convert');\n",
              "      buttonEl.style.display =\n",
              "        google.colab.kernel.accessAllowed ? 'block' : 'none';\n",
              "\n",
              "      async function convertToInteractive(key) {\n",
              "        const element = document.querySelector('#df-4a13b810-4d23-422e-8cb9-a1f3095f5c68');\n",
              "        const dataTable =\n",
              "          await google.colab.kernel.invokeFunction('convertToInteractive',\n",
              "                                                    [key], {});\n",
              "        if (!dataTable) return;\n",
              "\n",
              "        const docLinkHtml = 'Like what you see? Visit the ' +\n",
              "          '<a target=\"_blank\" href=https://colab.research.google.com/notebooks/data_table.ipynb>data table notebook</a>'\n",
              "          + ' to learn more about interactive tables.';\n",
              "        element.innerHTML = '';\n",
              "        dataTable['output_type'] = 'display_data';\n",
              "        await google.colab.output.renderOutput(dataTable, element);\n",
              "        const docLink = document.createElement('div');\n",
              "        docLink.innerHTML = docLinkHtml;\n",
              "        element.appendChild(docLink);\n",
              "      }\n",
              "    </script>\n",
              "  </div>\n",
              "\n",
              "\n",
              "    <div id=\"df-75062925-9d12-4c26-99f0-77bea0aeedfa\">\n",
              "      <button class=\"colab-df-quickchart\" onclick=\"quickchart('df-75062925-9d12-4c26-99f0-77bea0aeedfa')\"\n",
              "                title=\"Suggest charts\"\n",
              "                style=\"display:none;\">\n",
              "\n",
              "<svg xmlns=\"http://www.w3.org/2000/svg\" height=\"24px\"viewBox=\"0 0 24 24\"\n",
              "     width=\"24px\">\n",
              "    <g>\n",
              "        <path d=\"M19 3H5c-1.1 0-2 .9-2 2v14c0 1.1.9 2 2 2h14c1.1 0 2-.9 2-2V5c0-1.1-.9-2-2-2zM9 17H7v-7h2v7zm4 0h-2V7h2v10zm4 0h-2v-4h2v4z\"/>\n",
              "    </g>\n",
              "</svg>\n",
              "      </button>\n",
              "\n",
              "<style>\n",
              "  .colab-df-quickchart {\n",
              "      --bg-color: #E8F0FE;\n",
              "      --fill-color: #1967D2;\n",
              "      --hover-bg-color: #E2EBFA;\n",
              "      --hover-fill-color: #174EA6;\n",
              "      --disabled-fill-color: #AAA;\n",
              "      --disabled-bg-color: #DDD;\n",
              "  }\n",
              "\n",
              "  [theme=dark] .colab-df-quickchart {\n",
              "      --bg-color: #3B4455;\n",
              "      --fill-color: #D2E3FC;\n",
              "      --hover-bg-color: #434B5C;\n",
              "      --hover-fill-color: #FFFFFF;\n",
              "      --disabled-bg-color: #3B4455;\n",
              "      --disabled-fill-color: #666;\n",
              "  }\n",
              "\n",
              "  .colab-df-quickchart {\n",
              "    background-color: var(--bg-color);\n",
              "    border: none;\n",
              "    border-radius: 50%;\n",
              "    cursor: pointer;\n",
              "    display: none;\n",
              "    fill: var(--fill-color);\n",
              "    height: 32px;\n",
              "    padding: 0;\n",
              "    width: 32px;\n",
              "  }\n",
              "\n",
              "  .colab-df-quickchart:hover {\n",
              "    background-color: var(--hover-bg-color);\n",
              "    box-shadow: 0 1px 2px rgba(60, 64, 67, 0.3), 0 1px 3px 1px rgba(60, 64, 67, 0.15);\n",
              "    fill: var(--button-hover-fill-color);\n",
              "  }\n",
              "\n",
              "  .colab-df-quickchart-complete:disabled,\n",
              "  .colab-df-quickchart-complete:disabled:hover {\n",
              "    background-color: var(--disabled-bg-color);\n",
              "    fill: var(--disabled-fill-color);\n",
              "    box-shadow: none;\n",
              "  }\n",
              "\n",
              "  .colab-df-spinner {\n",
              "    border: 2px solid var(--fill-color);\n",
              "    border-color: transparent;\n",
              "    border-bottom-color: var(--fill-color);\n",
              "    animation:\n",
              "      spin 1s steps(1) infinite;\n",
              "  }\n",
              "\n",
              "  @keyframes spin {\n",
              "    0% {\n",
              "      border-color: transparent;\n",
              "      border-bottom-color: var(--fill-color);\n",
              "      border-left-color: var(--fill-color);\n",
              "    }\n",
              "    20% {\n",
              "      border-color: transparent;\n",
              "      border-left-color: var(--fill-color);\n",
              "      border-top-color: var(--fill-color);\n",
              "    }\n",
              "    30% {\n",
              "      border-color: transparent;\n",
              "      border-left-color: var(--fill-color);\n",
              "      border-top-color: var(--fill-color);\n",
              "      border-right-color: var(--fill-color);\n",
              "    }\n",
              "    40% {\n",
              "      border-color: transparent;\n",
              "      border-right-color: var(--fill-color);\n",
              "      border-top-color: var(--fill-color);\n",
              "    }\n",
              "    60% {\n",
              "      border-color: transparent;\n",
              "      border-right-color: var(--fill-color);\n",
              "    }\n",
              "    80% {\n",
              "      border-color: transparent;\n",
              "      border-right-color: var(--fill-color);\n",
              "      border-bottom-color: var(--fill-color);\n",
              "    }\n",
              "    90% {\n",
              "      border-color: transparent;\n",
              "      border-bottom-color: var(--fill-color);\n",
              "    }\n",
              "  }\n",
              "</style>\n",
              "\n",
              "      <script>\n",
              "        async function quickchart(key) {\n",
              "          const quickchartButtonEl =\n",
              "            document.querySelector('#' + key + ' button');\n",
              "          quickchartButtonEl.disabled = true;  // To prevent multiple clicks.\n",
              "          quickchartButtonEl.classList.add('colab-df-spinner');\n",
              "          try {\n",
              "            const charts = await google.colab.kernel.invokeFunction(\n",
              "                'suggestCharts', [key], {});\n",
              "          } catch (error) {\n",
              "            console.error('Error during call to suggestCharts:', error);\n",
              "          }\n",
              "          quickchartButtonEl.classList.remove('colab-df-spinner');\n",
              "          quickchartButtonEl.classList.add('colab-df-quickchart-complete');\n",
              "        }\n",
              "        (() => {\n",
              "          let quickchartButtonEl =\n",
              "            document.querySelector('#df-75062925-9d12-4c26-99f0-77bea0aeedfa button');\n",
              "          quickchartButtonEl.style.display =\n",
              "            google.colab.kernel.accessAllowed ? 'block' : 'none';\n",
              "        })();\n",
              "      </script>\n",
              "    </div>\n",
              "\n",
              "    </div>\n",
              "  </div>\n"
            ],
            "application/vnd.google.colaboratory.intrinsic+json": {
              "type": "dataframe",
              "variable_name": "base"
            }
          },
          "metadata": {},
          "execution_count": 27
        }
      ]
    },
    {
      "cell_type": "code",
      "source": [
        "base.info()"
      ],
      "metadata": {
        "colab": {
          "base_uri": "https://localhost:8080/"
        },
        "id": "R8Ozny4DuD3U",
        "outputId": "1db2572d-a1af-466c-8b85-169f8d9cdd68"
      },
      "execution_count": null,
      "outputs": [
        {
          "output_type": "stream",
          "name": "stdout",
          "text": [
            "<class 'pandas.core.frame.DataFrame'>\n",
            "RangeIndex: 41583 entries, 0 to 41582\n",
            "Data columns (total 48 columns):\n",
            " #   Column                    Non-Null Count  Dtype  \n",
            "---  ------                    --------------  -----  \n",
            " 0   survey_code               41583 non-null  int64  \n",
            " 1   age                       41583 non-null  int64  \n",
            " 2   gender                    41583 non-null  object \n",
            " 3   height                    41583 non-null  float64\n",
            " 4   weight                    41583 non-null  float64\n",
            " 5   bmi                       41583 non-null  float64\n",
            " 6   bmi_estimated             41583 non-null  float64\n",
            " 7   bmi_scaled                41583 non-null  float64\n",
            " 8   bmi_corrected             41583 non-null  float64\n",
            " 9   waist_size                41583 non-null  float64\n",
            " 10  blood_pressure            38360 non-null  float64\n",
            " 11  heart_rate                35719 non-null  float64\n",
            " 12  cholesterol               41582 non-null  float64\n",
            " 13  glucose                   41582 non-null  float64\n",
            " 14  insulin                   34997 non-null  float64\n",
            " 15  sleep_hours               41582 non-null  float64\n",
            " 16  sleep_quality             41582 non-null  object \n",
            " 17  work_hours                41582 non-null  float64\n",
            " 18  physical_activity         41582 non-null  float64\n",
            " 19  daily_steps               38069 non-null  float64\n",
            " 20  calorie_intake            41582 non-null  float64\n",
            " 21  sugar_intake              41582 non-null  float64\n",
            " 22  alcohol_consumption       24068 non-null  object \n",
            " 23  smoking_level             41582 non-null  object \n",
            " 24  water_intake              41582 non-null  float64\n",
            " 25  screen_time               41582 non-null  float64\n",
            " 26  stress_level              41582 non-null  float64\n",
            " 27  mental_health_score       41582 non-null  float64\n",
            " 28  mental_health_support     41582 non-null  object \n",
            " 29  education_level           41582 non-null  object \n",
            " 30  job_type                  41582 non-null  object \n",
            " 31  occupation                41582 non-null  object \n",
            " 32  income                    38014 non-null  float64\n",
            " 33  diet_type                 41582 non-null  object \n",
            " 34  exercise_type             31120 non-null  object \n",
            " 35  device_usage              41582 non-null  object \n",
            " 36  healthcare_access         41582 non-null  object \n",
            " 37  insurance                 41582 non-null  object \n",
            " 38  sunlight_exposure         41582 non-null  object \n",
            " 39  meals_per_day             41582 non-null  float64\n",
            " 40  caffeine_intake           27776 non-null  object \n",
            " 41  family_history            41582 non-null  object \n",
            " 42  pet_owner                 41582 non-null  object \n",
            " 43  electrolyte_level         41582 non-null  float64\n",
            " 44  gene_marker_flag          37248 non-null  float64\n",
            " 45  environmental_risk_score  41582 non-null  float64\n",
            " 46  daily_supplement_dosage   41582 non-null  float64\n",
            " 47  target                    41582 non-null  object \n",
            "dtypes: float64(28), int64(2), object(18)\n",
            "memory usage: 15.2+ MB\n"
          ]
        }
      ]
    },
    {
      "cell_type": "code",
      "source": [
        "for i in base.columns[1:48].to_list():\n",
        "  if base.dtypes[i] == \"object\":\n",
        "    base[i] = base[i].astype('category')\n"
      ],
      "metadata": {
        "id": "cXIxc7lTS0Wn"
      },
      "execution_count": null,
      "outputs": []
    },
    {
      "cell_type": "code",
      "source": [
        "categorical_variables = []\n",
        "for i in base.columns[1:47].to_list():\n",
        "  if base.dtypes[i] == 'category':\n",
        "    categorical_variables.append(i)"
      ],
      "metadata": {
        "id": "ZZniVw43C2Kd"
      },
      "execution_count": null,
      "outputs": []
    },
    {
      "cell_type": "code",
      "source": [
        "len(categorical_variables)"
      ],
      "metadata": {
        "colab": {
          "base_uri": "https://localhost:8080/"
        },
        "id": "24RyoDxLDSkc",
        "outputId": "e3e643d6-2b98-45a7-c990-a6be6c6f8f97"
      },
      "execution_count": null,
      "outputs": [
        {
          "output_type": "execute_result",
          "data": {
            "text/plain": [
              "17"
            ]
          },
          "metadata": {},
          "execution_count": 31
        }
      ]
    },
    {
      "cell_type": "code",
      "source": [
        "from sklearn.preprocessing import LabelEncoder"
      ],
      "metadata": {
        "id": "ZFGnNUWmVTpI"
      },
      "execution_count": null,
      "outputs": []
    },
    {
      "cell_type": "code",
      "source": [
        "lb = LabelEncoder()\n",
        "for var in categorical_variables:\n",
        "  base[var] = lb.fit_transform(base[var])"
      ],
      "metadata": {
        "id": "DGdqid4TVKhY"
      },
      "execution_count": null,
      "outputs": []
    },
    {
      "cell_type": "markdown",
      "source": [
        "## Tratando Valores Nulos"
      ],
      "metadata": {
        "id": "Cawca4cVdhrE"
      }
    },
    {
      "cell_type": "code",
      "source": [
        "def treat_null_values():\n",
        "  missing_data = base.isna().sum()\n",
        "\n",
        "  missing_columns = []\n",
        "  for index, values in missing_data.items():\n",
        "    if values != 0:\n",
        "      missing_columns.append(index)\n",
        "\n",
        "\n",
        "  null_values = 0\n",
        "  for i in missing_data:\n",
        "    if i != 0:\n",
        "      null_values = null_values + i\n",
        "\n",
        "  rows = base.shape[0]\n",
        "  perc_missing_values = null_values / rows * 100\n",
        "\n",
        "  if perc_missing_values < 5:\n",
        "    base.dropna(inplace=True)\n",
        "  else:\n",
        "    for i in missing_columns:\n",
        "      base[i] = base[i].fillna((base[i].median()))"
      ],
      "metadata": {
        "id": "ZtkILNQHgD3u"
      },
      "execution_count": null,
      "outputs": []
    },
    {
      "cell_type": "code",
      "source": [
        "treat_null_values()"
      ],
      "metadata": {
        "id": "_WpyUN6WhE1G"
      },
      "execution_count": null,
      "outputs": []
    },
    {
      "cell_type": "code",
      "source": [
        "base.isna().sum()"
      ],
      "metadata": {
        "colab": {
          "base_uri": "https://localhost:8080/",
          "height": 1000
        },
        "id": "FuOutUQwiHUu",
        "outputId": "17f08595-a3b7-4067-a1d3-0f7d13c24cf3"
      },
      "execution_count": null,
      "outputs": [
        {
          "output_type": "execute_result",
          "data": {
            "text/plain": [
              "survey_code                 0\n",
              "age                         0\n",
              "gender                      0\n",
              "height                      0\n",
              "weight                      0\n",
              "bmi                         0\n",
              "bmi_estimated               0\n",
              "bmi_scaled                  0\n",
              "bmi_corrected               0\n",
              "waist_size                  0\n",
              "blood_pressure              0\n",
              "heart_rate                  0\n",
              "cholesterol                 0\n",
              "glucose                     0\n",
              "insulin                     0\n",
              "sleep_hours                 0\n",
              "sleep_quality               0\n",
              "work_hours                  0\n",
              "physical_activity           0\n",
              "daily_steps                 0\n",
              "calorie_intake              0\n",
              "sugar_intake                0\n",
              "alcohol_consumption         0\n",
              "smoking_level               0\n",
              "water_intake                0\n",
              "screen_time                 0\n",
              "stress_level                0\n",
              "mental_health_score         0\n",
              "mental_health_support       0\n",
              "education_level             0\n",
              "job_type                    0\n",
              "occupation                  0\n",
              "income                      0\n",
              "diet_type                   0\n",
              "exercise_type               0\n",
              "device_usage                0\n",
              "healthcare_access           0\n",
              "insurance                   0\n",
              "sunlight_exposure           0\n",
              "meals_per_day               0\n",
              "caffeine_intake             0\n",
              "family_history              0\n",
              "pet_owner                   0\n",
              "electrolyte_level           0\n",
              "gene_marker_flag            0\n",
              "environmental_risk_score    0\n",
              "daily_supplement_dosage     0\n",
              "target                      0\n",
              "dtype: int64"
            ],
            "text/html": [
              "<div>\n",
              "<style scoped>\n",
              "    .dataframe tbody tr th:only-of-type {\n",
              "        vertical-align: middle;\n",
              "    }\n",
              "\n",
              "    .dataframe tbody tr th {\n",
              "        vertical-align: top;\n",
              "    }\n",
              "\n",
              "    .dataframe thead th {\n",
              "        text-align: right;\n",
              "    }\n",
              "</style>\n",
              "<table border=\"1\" class=\"dataframe\">\n",
              "  <thead>\n",
              "    <tr style=\"text-align: right;\">\n",
              "      <th></th>\n",
              "      <th>0</th>\n",
              "    </tr>\n",
              "  </thead>\n",
              "  <tbody>\n",
              "    <tr>\n",
              "      <th>survey_code</th>\n",
              "      <td>0</td>\n",
              "    </tr>\n",
              "    <tr>\n",
              "      <th>age</th>\n",
              "      <td>0</td>\n",
              "    </tr>\n",
              "    <tr>\n",
              "      <th>gender</th>\n",
              "      <td>0</td>\n",
              "    </tr>\n",
              "    <tr>\n",
              "      <th>height</th>\n",
              "      <td>0</td>\n",
              "    </tr>\n",
              "    <tr>\n",
              "      <th>weight</th>\n",
              "      <td>0</td>\n",
              "    </tr>\n",
              "    <tr>\n",
              "      <th>bmi</th>\n",
              "      <td>0</td>\n",
              "    </tr>\n",
              "    <tr>\n",
              "      <th>bmi_estimated</th>\n",
              "      <td>0</td>\n",
              "    </tr>\n",
              "    <tr>\n",
              "      <th>bmi_scaled</th>\n",
              "      <td>0</td>\n",
              "    </tr>\n",
              "    <tr>\n",
              "      <th>bmi_corrected</th>\n",
              "      <td>0</td>\n",
              "    </tr>\n",
              "    <tr>\n",
              "      <th>waist_size</th>\n",
              "      <td>0</td>\n",
              "    </tr>\n",
              "    <tr>\n",
              "      <th>blood_pressure</th>\n",
              "      <td>0</td>\n",
              "    </tr>\n",
              "    <tr>\n",
              "      <th>heart_rate</th>\n",
              "      <td>0</td>\n",
              "    </tr>\n",
              "    <tr>\n",
              "      <th>cholesterol</th>\n",
              "      <td>0</td>\n",
              "    </tr>\n",
              "    <tr>\n",
              "      <th>glucose</th>\n",
              "      <td>0</td>\n",
              "    </tr>\n",
              "    <tr>\n",
              "      <th>insulin</th>\n",
              "      <td>0</td>\n",
              "    </tr>\n",
              "    <tr>\n",
              "      <th>sleep_hours</th>\n",
              "      <td>0</td>\n",
              "    </tr>\n",
              "    <tr>\n",
              "      <th>sleep_quality</th>\n",
              "      <td>0</td>\n",
              "    </tr>\n",
              "    <tr>\n",
              "      <th>work_hours</th>\n",
              "      <td>0</td>\n",
              "    </tr>\n",
              "    <tr>\n",
              "      <th>physical_activity</th>\n",
              "      <td>0</td>\n",
              "    </tr>\n",
              "    <tr>\n",
              "      <th>daily_steps</th>\n",
              "      <td>0</td>\n",
              "    </tr>\n",
              "    <tr>\n",
              "      <th>calorie_intake</th>\n",
              "      <td>0</td>\n",
              "    </tr>\n",
              "    <tr>\n",
              "      <th>sugar_intake</th>\n",
              "      <td>0</td>\n",
              "    </tr>\n",
              "    <tr>\n",
              "      <th>alcohol_consumption</th>\n",
              "      <td>0</td>\n",
              "    </tr>\n",
              "    <tr>\n",
              "      <th>smoking_level</th>\n",
              "      <td>0</td>\n",
              "    </tr>\n",
              "    <tr>\n",
              "      <th>water_intake</th>\n",
              "      <td>0</td>\n",
              "    </tr>\n",
              "    <tr>\n",
              "      <th>screen_time</th>\n",
              "      <td>0</td>\n",
              "    </tr>\n",
              "    <tr>\n",
              "      <th>stress_level</th>\n",
              "      <td>0</td>\n",
              "    </tr>\n",
              "    <tr>\n",
              "      <th>mental_health_score</th>\n",
              "      <td>0</td>\n",
              "    </tr>\n",
              "    <tr>\n",
              "      <th>mental_health_support</th>\n",
              "      <td>0</td>\n",
              "    </tr>\n",
              "    <tr>\n",
              "      <th>education_level</th>\n",
              "      <td>0</td>\n",
              "    </tr>\n",
              "    <tr>\n",
              "      <th>job_type</th>\n",
              "      <td>0</td>\n",
              "    </tr>\n",
              "    <tr>\n",
              "      <th>occupation</th>\n",
              "      <td>0</td>\n",
              "    </tr>\n",
              "    <tr>\n",
              "      <th>income</th>\n",
              "      <td>0</td>\n",
              "    </tr>\n",
              "    <tr>\n",
              "      <th>diet_type</th>\n",
              "      <td>0</td>\n",
              "    </tr>\n",
              "    <tr>\n",
              "      <th>exercise_type</th>\n",
              "      <td>0</td>\n",
              "    </tr>\n",
              "    <tr>\n",
              "      <th>device_usage</th>\n",
              "      <td>0</td>\n",
              "    </tr>\n",
              "    <tr>\n",
              "      <th>healthcare_access</th>\n",
              "      <td>0</td>\n",
              "    </tr>\n",
              "    <tr>\n",
              "      <th>insurance</th>\n",
              "      <td>0</td>\n",
              "    </tr>\n",
              "    <tr>\n",
              "      <th>sunlight_exposure</th>\n",
              "      <td>0</td>\n",
              "    </tr>\n",
              "    <tr>\n",
              "      <th>meals_per_day</th>\n",
              "      <td>0</td>\n",
              "    </tr>\n",
              "    <tr>\n",
              "      <th>caffeine_intake</th>\n",
              "      <td>0</td>\n",
              "    </tr>\n",
              "    <tr>\n",
              "      <th>family_history</th>\n",
              "      <td>0</td>\n",
              "    </tr>\n",
              "    <tr>\n",
              "      <th>pet_owner</th>\n",
              "      <td>0</td>\n",
              "    </tr>\n",
              "    <tr>\n",
              "      <th>electrolyte_level</th>\n",
              "      <td>0</td>\n",
              "    </tr>\n",
              "    <tr>\n",
              "      <th>gene_marker_flag</th>\n",
              "      <td>0</td>\n",
              "    </tr>\n",
              "    <tr>\n",
              "      <th>environmental_risk_score</th>\n",
              "      <td>0</td>\n",
              "    </tr>\n",
              "    <tr>\n",
              "      <th>daily_supplement_dosage</th>\n",
              "      <td>0</td>\n",
              "    </tr>\n",
              "    <tr>\n",
              "      <th>target</th>\n",
              "      <td>0</td>\n",
              "    </tr>\n",
              "  </tbody>\n",
              "</table>\n",
              "</div><br><label><b>dtype:</b> int64</label>"
            ]
          },
          "metadata": {},
          "execution_count": 37
        }
      ]
    },
    {
      "cell_type": "markdown",
      "source": [
        "## Balanceando os Dados para Treino dos Modelos"
      ],
      "metadata": {
        "id": "8UIPxo42du8G"
      }
    },
    {
      "cell_type": "code",
      "source": [
        "PREDICTORS = base.iloc[:, 1:47]\n",
        "TARGET = base.iloc[:, 47]"
      ],
      "metadata": {
        "id": "dkcXcJ-KuGiZ"
      },
      "execution_count": null,
      "outputs": []
    },
    {
      "cell_type": "code",
      "source": [
        "from imblearn.over_sampling import SMOTE"
      ],
      "metadata": {
        "id": "bV6bgXKCv980"
      },
      "execution_count": null,
      "outputs": []
    },
    {
      "cell_type": "code",
      "source": [
        "seed = 100\n",
        "\n",
        "balancer = SMOTE(random_state = seed)\n",
        "\n",
        "PREDICTORS_RES, TARGET_RES = balancer.fit_resample(PREDICTORS, TARGET)"
      ],
      "metadata": {
        "id": "11DH7hQHvBhS"
      },
      "execution_count": null,
      "outputs": []
    },
    {
      "cell_type": "code",
      "source": [
        "from sklearn.model_selection import train_test_split\n",
        "\n",
        "X_train, X_test, y_train, y_test = train_test_split(PREDICTORS_RES, TARGET_RES, test_size=0.33, random_state=42)"
      ],
      "metadata": {
        "id": "4aKqK4t-gCM_"
      },
      "execution_count": null,
      "outputs": []
    },
    {
      "cell_type": "code",
      "source": [
        "from sklearn.preprocessing import MinMaxScaler\n",
        "\n",
        "normalizer = MinMaxScaler()\n",
        "X_train_standardized = normalizer.fit_transform(X_train)\n",
        "X_test_standardized = normalizer.transform(X_test)"
      ],
      "metadata": {
        "id": "32BKfcv09iNR"
      },
      "execution_count": null,
      "outputs": []
    },
    {
      "cell_type": "markdown",
      "source": [
        "## Padronizando e Normalizando os Dados"
      ],
      "metadata": {
        "id": "VGPqvr5y0Dx4"
      }
    },
    {
      "cell_type": "code",
      "source": [
        "from sklearn.preprocessing import StandardScaler"
      ],
      "metadata": {
        "id": "JQ8_yATM0Jow"
      },
      "execution_count": null,
      "outputs": []
    },
    {
      "cell_type": "code",
      "source": [
        "scaler = StandardScaler()"
      ],
      "metadata": {
        "id": "9Ayj4PvH0Qmg"
      },
      "execution_count": null,
      "outputs": []
    },
    {
      "cell_type": "code",
      "source": [
        "X_train_scaled = scaler.fit_transform(X_train)\n",
        "X_test_scaled = scaler.transform(X_test)"
      ],
      "metadata": {
        "id": "zVTcORzS06hy"
      },
      "execution_count": null,
      "outputs": []
    },
    {
      "cell_type": "markdown",
      "source": [
        "## Treinando e Avaliando Modelo LogisticRegression"
      ],
      "metadata": {
        "id": "tVeS8XCNeLnJ"
      }
    },
    {
      "cell_type": "code",
      "source": [
        "from sklearn.linear_model import LogisticRegression\n",
        "\n",
        "clf = LogisticRegression(class_weight='balanced',random_state=0)"
      ],
      "metadata": {
        "id": "LROCihSWs0Lc"
      },
      "execution_count": null,
      "outputs": []
    },
    {
      "cell_type": "code",
      "source": [
        "clf = clf.fit(X_train_scaled, y_train)"
      ],
      "metadata": {
        "id": "CHJfsTGEtOdr"
      },
      "execution_count": null,
      "outputs": []
    },
    {
      "cell_type": "code",
      "source": [
        "y_pred = clf.predict(X_test_scaled)"
      ],
      "metadata": {
        "id": "sjgBpEJz10fc"
      },
      "execution_count": null,
      "outputs": []
    },
    {
      "cell_type": "code",
      "source": [
        "from sklearn.metrics import accuracy_score\n",
        "\n",
        "accuracy_score(y_test, y_pred)"
      ],
      "metadata": {
        "colab": {
          "base_uri": "https://localhost:8080/"
        },
        "id": "hD4CtWu42F4E",
        "outputId": "2bc03780-d228-4067-f0f1-530b546d93ce"
      },
      "execution_count": null,
      "outputs": [
        {
          "output_type": "execute_result",
          "data": {
            "text/plain": [
              "0.6731555785658815"
            ]
          },
          "metadata": {},
          "execution_count": 52
        }
      ]
    },
    {
      "cell_type": "code",
      "source": [
        "from sklearn.metrics import confusion_matrix\n",
        "confusion_matrix(y_test, y_pred)"
      ],
      "metadata": {
        "colab": {
          "base_uri": "https://localhost:8080/"
        },
        "id": "yMCE1kPz23Zm",
        "outputId": "7afc5c45-f091-44e4-d99e-aa3c175d0f35"
      },
      "execution_count": null,
      "outputs": [
        {
          "output_type": "execute_result",
          "data": {
            "text/plain": [
              "array([[6509, 3260],\n",
              "       [3053, 6493]])"
            ]
          },
          "metadata": {},
          "execution_count": 53
        }
      ]
    },
    {
      "cell_type": "code",
      "source": [
        "from sklearn.metrics import recall_score\n",
        "recall_score(y_test, y_pred, pos_label='diseased')"
      ],
      "metadata": {
        "colab": {
          "base_uri": "https://localhost:8080/"
        },
        "id": "jJplT5_M5UKV",
        "outputId": "e4018117-244c-46a1-cfe6-856305b9781b"
      },
      "execution_count": null,
      "outputs": [
        {
          "output_type": "execute_result",
          "data": {
            "text/plain": [
              "0.66629132971645"
            ]
          },
          "metadata": {},
          "execution_count": 54
        }
      ]
    },
    {
      "cell_type": "markdown",
      "source": [
        "## Treinando e Avaliando Modelo RandomForest"
      ],
      "metadata": {
        "id": "QzCujPbT7oQy"
      }
    },
    {
      "cell_type": "code",
      "source": [
        "from sklearn.ensemble import RandomForestClassifier"
      ],
      "metadata": {
        "id": "s5yobodF8Khs"
      },
      "execution_count": null,
      "outputs": []
    },
    {
      "cell_type": "code",
      "source": [
        "clf = RandomForestClassifier(n_estimators=300, criterion='entropy', max_depth=10, max_features='sqrt', min_samples_leaf=2, min_samples_split=2, n_jobs=8)"
      ],
      "metadata": {
        "id": "ZhAwoYv18dYG"
      },
      "execution_count": null,
      "outputs": []
    },
    {
      "cell_type": "code",
      "source": [
        "clf = clf.fit(X_train_standardized, y_train)"
      ],
      "metadata": {
        "id": "SdY-ov0F9V9p"
      },
      "execution_count": null,
      "outputs": []
    },
    {
      "cell_type": "code",
      "source": [
        "y_pred = clf.predict(X_test_scaled)"
      ],
      "metadata": {
        "id": "BYgGZ8FmIQuL"
      },
      "execution_count": null,
      "outputs": []
    },
    {
      "cell_type": "code",
      "source": [
        "accuracy_score(y_test, y_pred)"
      ],
      "metadata": {
        "colab": {
          "base_uri": "https://localhost:8080/"
        },
        "id": "f6umDegBIM5D",
        "outputId": "11861609-3749-4aa5-f2b8-58da3ffa4dca"
      },
      "execution_count": null,
      "outputs": [
        {
          "output_type": "execute_result",
          "data": {
            "text/plain": [
              "0.6376909137975667"
            ]
          },
          "metadata": {},
          "execution_count": 59
        }
      ]
    },
    {
      "cell_type": "code",
      "source": [
        "confusion_matrix(y_test, y_pred)"
      ],
      "metadata": {
        "colab": {
          "base_uri": "https://localhost:8080/"
        },
        "id": "iJisc-sbIA9E",
        "outputId": "5ea68d66-b0bf-49fb-c2e7-b1b00e872146"
      },
      "execution_count": null,
      "outputs": [
        {
          "output_type": "execute_result",
          "data": {
            "text/plain": [
              "array([[3169, 6600],\n",
              "       [ 398, 9148]])"
            ]
          },
          "metadata": {},
          "execution_count": 60
        }
      ]
    },
    {
      "cell_type": "code",
      "source": [
        "recall_score(y_test, y_pred, pos_label='diseased')"
      ],
      "metadata": {
        "colab": {
          "base_uri": "https://localhost:8080/"
        },
        "id": "6HLrlekkIXLb",
        "outputId": "250f0e72-d653-4f38-8094-c39184b71987"
      },
      "execution_count": null,
      "outputs": [
        {
          "output_type": "execute_result",
          "data": {
            "text/plain": [
              "0.32439348960999076"
            ]
          },
          "metadata": {},
          "execution_count": 63
        }
      ]
    }
  ]
}